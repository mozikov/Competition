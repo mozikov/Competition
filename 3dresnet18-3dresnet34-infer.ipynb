{
 "cells": [
  {
   "cell_type": "code",
   "execution_count": 1,
   "id": "4a5f26b0",
   "metadata": {
    "execution": {
     "iopub.execute_input": "2023-07-13T06:01:34.802272Z",
     "iopub.status.busy": "2023-07-13T06:01:34.801831Z",
     "iopub.status.idle": "2023-07-13T06:01:39.739175Z",
     "shell.execute_reply": "2023-07-13T06:01:39.738002Z"
    },
    "papermill": {
     "duration": 4.947387,
     "end_time": "2023-07-13T06:01:39.742623",
     "exception": false,
     "start_time": "2023-07-13T06:01:34.795236",
     "status": "completed"
    },
    "tags": []
   },
   "outputs": [],
   "source": [
    "import os,glob\n",
    "import filecmp\n",
    "import gc\n",
    "import cv2\n",
    "import sys\n",
    "import random\n",
    "import imageio\n",
    "import numpy as np\n",
    "import pandas as pd\n",
    "from tqdm import tqdm\n",
    "import matplotlib.pyplot as plt\n",
    "from IPython.display import Video\n",
    "import tifffile as tiff\n",
    "import torch\n",
    "import torchvision\n",
    "import torch.nn as nn\n",
    "import torch.nn.functional as F\n",
    "from torch.cuda import amp\n",
    "from torch.utils.data import Dataset, DataLoader\n",
    "import albumentations as A\n",
    "from albumentations.pytorch import ToTensorV2\n",
    "from albumentations import ImageOnlyTransform\n",
    "sys.path.append(\"/kaggle/input/resnet3d\")\n",
    "from resnet3d import generate_model"
   ]
  },
  {
   "cell_type": "code",
   "execution_count": 2,
   "id": "d2592d42",
   "metadata": {
    "execution": {
     "iopub.execute_input": "2023-07-13T06:01:39.753149Z",
     "iopub.status.busy": "2023-07-13T06:01:39.752622Z",
     "iopub.status.idle": "2023-07-13T06:01:39.829323Z",
     "shell.execute_reply": "2023-07-13T06:01:39.828139Z"
    },
    "papermill": {
     "duration": 0.085201,
     "end_time": "2023-07-13T06:01:39.832581",
     "exception": false,
     "start_time": "2023-07-13T06:01:39.747380",
     "status": "completed"
    },
    "tags": []
   },
   "outputs": [
    {
     "name": "stdout",
     "output_type": "stream",
     "text": [
      "tile_size= 1024\n"
     ]
    }
   ],
   "source": [
    "QUICK_SAVE = False \n",
    "mode = 'test'\n",
    "device = torch.device('cuda' if torch.cuda.is_available() else 'cpu')\n",
    "chkps = [\n",
    "    '/kaggle/input/train-r18-3d-mosaic/vesuvius-models/Resnet18_3d_fold1_best.pth',\n",
    "    '/kaggle/input/train-r18-3d-mosaic2-exp1/vesuvius-models/Resnet18_3d_fold2a_best.pth',\n",
    "    '/kaggle/input/train-r34-3d-mosaic/vesuvius-models/Resnet34_3d_fold2b_best.pth',\n",
    "    '/kaggle/input/train-r34-3d-mosaic/vesuvius-models/Resnet34_3d_fold1_best.pth',\n",
    "    '/kaggle/input/train-r34-3d-mosaic/vesuvius-models/Resnet34_3d_fold3_best.pth',\n",
    "    '/kaggle/input/train-r34-3d-mosaic/vesuvius-models/Resnet34_3d_fold2a_best.pth']\n",
    "comp_dataset_path='/kaggle/input/vesuvius-challenge-ink-detection/'\n",
    "TH=0.5\n",
    "expand=128\n",
    "size=896\n",
    "tile_size=size+expand\n",
    "print('tile_size=',tile_size)\n",
    "stride=tile_size//2     \n",
    "BATCH_SIZE = 1\n",
    "Z_START = 16\n",
    "Z_DIMS = 32"
   ]
  },
  {
   "cell_type": "code",
   "execution_count": 3,
   "id": "df8e6115",
   "metadata": {
    "execution": {
     "iopub.execute_input": "2023-07-13T06:01:39.843906Z",
     "iopub.status.busy": "2023-07-13T06:01:39.843159Z",
     "iopub.status.idle": "2023-07-13T06:01:43.714035Z",
     "shell.execute_reply": "2023-07-13T06:01:43.712898Z"
    },
    "papermill": {
     "duration": 3.880205,
     "end_time": "2023-07-13T06:01:43.717301",
     "exception": false,
     "start_time": "2023-07-13T06:01:39.837096",
     "status": "completed"
    },
    "tags": []
   },
   "outputs": [],
   "source": [
    "import cupy as cp\n",
    "xp = cp\n",
    "\n",
    "delta_lookup = {\n",
    "    \"xx\": xp.array([[1, -2, 1]], dtype=float),\n",
    "    \"yy\": xp.array([[1], [-2], [1]], dtype=float),\n",
    "    \"xy\": xp.array([[1, -1], [-1, 1]], dtype=float),\n",
    "}\n",
    "\n",
    "def operate_derivative(img_shape, pair):\n",
    "    assert len(img_shape) == 2\n",
    "    delta = delta_lookup[pair]\n",
    "    fft = xp.fft.fftn(delta, img_shape)\n",
    "    return fft * xp.conj(fft)\n",
    "\n",
    "def soft_threshold(vector, threshold):\n",
    "    return xp.sign(vector) * xp.maximum(xp.abs(vector) - threshold, 0)\n",
    "\n",
    "def back_diff(input_image, dim):\n",
    "    assert dim in (0, 1)\n",
    "    r, n = xp.shape(input_image)\n",
    "    size = xp.array((r, n))\n",
    "    position = xp.zeros(2, dtype=int)\n",
    "    temp1 = xp.zeros((r+1, n+1), dtype=float)\n",
    "    temp2 = xp.zeros((r+1, n+1), dtype=float)\n",
    "    \n",
    "    temp1[position[0]:size[0], position[1]:size[1]] = input_image\n",
    "    temp2[position[0]:size[0], position[1]:size[1]] = input_image\n",
    "    \n",
    "    size[dim] += 1\n",
    "    position[dim] += 1\n",
    "    temp2[position[0]:size[0], position[1]:size[1]] = input_image\n",
    "    temp1 -= temp2\n",
    "    size[dim] -= 1\n",
    "    return temp1[0:size[0], 0:size[1]]\n",
    "\n",
    "def forward_diff(input_image, dim):\n",
    "    assert dim in (0, 1)\n",
    "    r, n = xp.shape(input_image)\n",
    "    size = xp.array((r, n))\n",
    "    position = xp.zeros(2, dtype=int)\n",
    "    temp1 = xp.zeros((r+1, n+1), dtype=float)\n",
    "    temp2 = xp.zeros((r+1, n+1), dtype=float)\n",
    "        \n",
    "    size[dim] += 1\n",
    "    position[dim] += 1\n",
    "\n",
    "    temp1[position[0]:size[0], position[1]:size[1]] = input_image\n",
    "    temp2[position[0]:size[0], position[1]:size[1]] = input_image\n",
    "    \n",
    "    size[dim] -= 1\n",
    "    temp2[0:size[0], 0:size[1]] = input_image\n",
    "    temp1 -= temp2\n",
    "    size[dim] += 1\n",
    "    return -temp1[position[0]:size[0], position[1]:size[1]]\n",
    "\n",
    "def iter_deriv(input_image, b, scale, mu, dim1, dim2):\n",
    "    g = back_diff(forward_diff(input_image, dim1), dim2)\n",
    "    d = soft_threshold(g + b, 1 / mu)\n",
    "    b = b + (g - d)\n",
    "    L = scale * back_diff(forward_diff(d - b, dim2), dim1)\n",
    "    return L, b\n",
    "\n",
    "def iter_xx(*args):\n",
    "    return iter_deriv(*args, dim1=1, dim2=1)\n",
    "\n",
    "def iter_yy(*args):\n",
    "    return iter_deriv(*args, dim1=0, dim2=0)\n",
    "\n",
    "def iter_xy(*args):\n",
    "    return iter_deriv(*args, dim1=0, dim2=1)\n",
    "\n",
    "def iter_sparse(input_image, bsparse, scale, mu):\n",
    "    d = soft_threshold(input_image + bsparse, 1 / mu)\n",
    "    bsparse = bsparse + (input_image - d)\n",
    "    Lsparse = scale * (d - bsparse)\n",
    "    return Lsparse, bsparse\n",
    "\n",
    "def denoise_image(input_image, iter_num=100, fidelity=150, sparsity_scale=10, continuity_scale=0.5, mu=1):\n",
    "    image_size = xp.shape(input_image)\n",
    "    #print(\"Initialize denoising\")\n",
    "    norm_array = (\n",
    "        operate_derivative(image_size, \"xx\") + \n",
    "        operate_derivative(image_size, \"yy\") + \n",
    "        2 * operate_derivative(image_size, \"xy\")\n",
    "    )\n",
    "    norm_array += (fidelity / mu) + sparsity_scale ** 2\n",
    "    b_arrays = {\n",
    "        \"xx\": xp.zeros(image_size, dtype=float),\n",
    "        \"yy\": xp.zeros(image_size, dtype=float),\n",
    "        \"xy\": xp.zeros(image_size, dtype=float),\n",
    "        \"L1\": xp.zeros(image_size, dtype=float),\n",
    "    }\n",
    "    g_update = xp.multiply(fidelity / mu, input_image)\n",
    "    for i in tqdm(range(iter_num), total=iter_num):\n",
    "        #print(f\"Starting iteration {i+1}\")\n",
    "        g_update = xp.fft.fftn(g_update)\n",
    "        if i == 0:\n",
    "            g = xp.fft.ifftn(g_update / (fidelity / mu)).real\n",
    "        else:\n",
    "            g = xp.fft.ifftn(xp.divide(g_update, norm_array)).real\n",
    "        g_update = xp.multiply((fidelity / mu), input_image)\n",
    "        \n",
    "        #print(\"XX update\")\n",
    "        L, b_arrays[\"xx\"] = iter_xx(g, b_arrays[\"xx\"], continuity_scale, mu)\n",
    "        g_update += L\n",
    "        \n",
    "        #print(\"YY update\")\n",
    "        L, b_arrays[\"yy\"] = iter_yy(g, b_arrays[\"yy\"], continuity_scale, mu)\n",
    "        g_update += L\n",
    "        \n",
    "        #print(\"XY update\")\n",
    "        L, b_arrays[\"xy\"] = iter_xy(g, b_arrays[\"xy\"], 2 * continuity_scale, mu)\n",
    "        g_update += L\n",
    "        \n",
    "        #print(\"L1 update\")\n",
    "        L, b_arrays[\"L1\"] = iter_sparse(g, b_arrays[\"L1\"], sparsity_scale, mu)\n",
    "        g_update += L\n",
    "        \n",
    "    g_update = xp.fft.fftn(g_update)\n",
    "    g = xp.fft.ifftn(xp.divide(g_update, norm_array)).real\n",
    "    \n",
    "    g[g < 0] = 0\n",
    "    g -= g.min()\n",
    "    g /= g.max()\n",
    "    return g\n"
   ]
  },
  {
   "cell_type": "code",
   "execution_count": 4,
   "id": "89aa40da",
   "metadata": {
    "execution": {
     "iopub.execute_input": "2023-07-13T06:01:43.727370Z",
     "iopub.status.busy": "2023-07-13T06:01:43.727000Z",
     "iopub.status.idle": "2023-07-13T06:01:43.737277Z",
     "shell.execute_reply": "2023-07-13T06:01:43.736027Z"
    },
    "papermill": {
     "duration": 0.018043,
     "end_time": "2023-07-13T06:01:43.739688",
     "exception": false,
     "start_time": "2023-07-13T06:01:43.721645",
     "status": "completed"
    },
    "tags": []
   },
   "outputs": [],
   "source": [
    "# ref.: https://www.kaggle.com/stainsby/fast-tested-rle\n",
    "def rle(img):\n",
    "    '''\n",
    "    img: numpy array, 1 - mask, 0 - background\n",
    "    Returns run length as string formated\n",
    "    '''\n",
    "    pixels = img.flatten()\n",
    "    # pixels = (pixels >= thr).astype(int)\n",
    "    \n",
    "    pixels = np.concatenate([[0], pixels, [0]])\n",
    "    runs = np.where(pixels[1:] != pixels[:-1])[0] + 1\n",
    "    runs[1::2] -= runs[::2]\n",
    "    return ' '.join(str(x) for x in runs)\n",
    "class CustomDataset(Dataset):\n",
    "    def __init__(self, images,  labels=None, transform=None):\n",
    "        self.images = images\n",
    "        self.labels = labels\n",
    "        self.transform = transform\n",
    "\n",
    "    def __len__(self):\n",
    "        return len(self.images)\n",
    "\n",
    "    def __getitem__(self, idx):\n",
    "        image = self.images[idx]\n",
    "        image = torch.from_numpy(image.astype(np.float32)).unsqueeze(0).permute(0, 3, 1, 2)\n",
    "        return image\n",
    "    \n"
   ]
  },
  {
   "cell_type": "code",
   "execution_count": 5,
   "id": "69f69e7d",
   "metadata": {
    "execution": {
     "iopub.execute_input": "2023-07-13T06:01:43.749413Z",
     "iopub.status.busy": "2023-07-13T06:01:43.749088Z",
     "iopub.status.idle": "2023-07-13T06:01:43.762042Z",
     "shell.execute_reply": "2023-07-13T06:01:43.760926Z"
    },
    "papermill": {
     "duration": 0.020391,
     "end_time": "2023-07-13T06:01:43.764181",
     "exception": false,
     "start_time": "2023-07-13T06:01:43.743790",
     "status": "completed"
    },
    "tags": []
   },
   "outputs": [],
   "source": [
    "def make_test_dataset(fragment_id):\n",
    "    test_images = read_image(fragment_id)\n",
    "    count=0\n",
    "    x1_list = list(range(0, test_images.shape[1]-tile_size+1, stride))\n",
    "    y1_list = list(range(0, test_images.shape[0]-tile_size+1, stride))\n",
    "    \n",
    "    test_images_list = []\n",
    "    xyxys = []\n",
    "    for y1 in y1_list:\n",
    "        for x1 in x1_list:\n",
    "            y2 = y1 + tile_size\n",
    "            x2 = x1 + tile_size\n",
    "            if np.all(test_images[y1:y2, x1:x2]==0):\n",
    "                count+=1    \n",
    "                continue\n",
    "            test_images_list.append(test_images[y1:y2, x1:x2])\n",
    "            xyxys.append((x1, y1, x2, y2))\n",
    "    xyxys = np.stack(xyxys)\n",
    "            \n",
    "    test_dataset = CustomDataset(test_images_list)\n",
    "    test_loader = DataLoader(test_dataset,\n",
    "                          batch_size=BATCH_SIZE,\n",
    "                          shuffle=False,\n",
    "                          num_workers=2, pin_memory=True, drop_last=False)\n",
    "    return test_loader, xyxys\n",
    "\n",
    "def read_image(fragment_id):\n",
    "    images = []\n",
    "\n",
    "    idxs = range(Z_START,Z_START+Z_DIMS)\n",
    "    for i in tqdm(idxs):\n",
    "        image = cv2.imread(f\"{comp_dataset_path}/{mode}/{fragment_id}/surface_volume/{i:02}.tif\",0)\n",
    "        pad0 = (tile_size - image.shape[0] % tile_size)\n",
    "        pad1 = (tile_size - image.shape[1] % tile_size)\n",
    "\n",
    "        image = np.pad(image, [(0, pad0), (0, pad1)], constant_values=0)\n",
    "\n",
    "        images.append(image)\n",
    "    images = np.stack(images, axis=2)\n",
    "    return images"
   ]
  },
  {
   "cell_type": "code",
   "execution_count": 6,
   "id": "db0a0dc8",
   "metadata": {
    "execution": {
     "iopub.execute_input": "2023-07-13T06:01:43.775969Z",
     "iopub.status.busy": "2023-07-13T06:01:43.774159Z",
     "iopub.status.idle": "2023-07-13T06:01:43.789701Z",
     "shell.execute_reply": "2023-07-13T06:01:43.788718Z"
    },
    "papermill": {
     "duration": 0.023325,
     "end_time": "2023-07-13T06:01:43.792057",
     "exception": false,
     "start_time": "2023-07-13T06:01:43.768732",
     "status": "completed"
    },
    "tags": []
   },
   "outputs": [],
   "source": [
    "class Decoder(nn.Module):\n",
    "    def __init__(self, encoder_dims, upscale):\n",
    "        super().__init__()\n",
    "        self.convs = nn.ModuleList([\n",
    "            nn.Sequential(\n",
    "                nn.Conv2d(encoder_dims[i]+encoder_dims[i-1], encoder_dims[i-1], 3, 1, 1, bias=False),\n",
    "                nn.BatchNorm2d(encoder_dims[i-1]),\n",
    "                nn.ReLU(inplace=True)\n",
    "            ) for i in range(1, len(encoder_dims))])\n",
    "\n",
    "        self.logit = nn.Conv2d(encoder_dims[0], 1, 1, 1, 0)\n",
    "        self.up = nn.Upsample(scale_factor=upscale, mode=\"bilinear\")\n",
    "\n",
    "    def forward(self, feature_maps):\n",
    "        for i in range(len(feature_maps)-1, 0, -1):\n",
    "            f_up = F.interpolate(feature_maps[i], scale_factor=2, mode=\"bilinear\")\n",
    "            f = torch.cat([feature_maps[i-1], f_up], dim=1)\n",
    "            f_down = self.convs[i-1](f)\n",
    "            feature_maps[i-1] = f_down\n",
    "\n",
    "        x = self.logit(feature_maps[0])\n",
    "        mask = self.up(x)\n",
    "        return mask\n",
    "class SegModel(nn.Module):\n",
    "    def __init__(self,model_depth):\n",
    "        super().__init__()\n",
    "        self.encoder = generate_model(model_depth=model_depth, n_input_channels=1)\n",
    "        self.decoder = Decoder(encoder_dims=[64, 128, 256, 512], upscale=4)\n",
    "        \n",
    "    def forward(self, x):\n",
    "        feat_maps = self.encoder(x)\n",
    "        feat_maps_pooled = [torch.mean(f, dim=2) for f in feat_maps]\n",
    "        pred_mask = self.decoder(feat_maps_pooled)\n",
    "        return pred_mask"
   ]
  },
  {
   "cell_type": "code",
   "execution_count": 7,
   "id": "633988d9",
   "metadata": {
    "execution": {
     "iopub.execute_input": "2023-07-13T06:01:43.802301Z",
     "iopub.status.busy": "2023-07-13T06:01:43.801671Z",
     "iopub.status.idle": "2023-07-13T06:01:43.822742Z",
     "shell.execute_reply": "2023-07-13T06:01:43.821825Z"
    },
    "papermill": {
     "duration": 0.028797,
     "end_time": "2023-07-13T06:01:43.825133",
     "exception": false,
     "start_time": "2023-07-13T06:01:43.796336",
     "status": "completed"
    },
    "tags": []
   },
   "outputs": [],
   "source": [
    "def TTA(x:torch.Tensor,model:nn.Module,tta=True,num_tta=4):\n",
    "    #x.shape=(batch,1,c,h,w)\n",
    "    if tta:\n",
    "        out=[]\n",
    "        shape=x.shape\n",
    "        xf1=torch.flip(x, dims=[3])#\n",
    "        xf2=torch.flip(x, dims=[4])#\n",
    "        x=[x,*[torch.rot90(x,k=i,dims=(-2,-1)) for i in range(1,num_tta)]]\n",
    "        for x_ in x:\n",
    "            out.append(model(x_)) \n",
    "        out.append(model(xf1))# \n",
    "        out.append(model(xf2)) #\n",
    "        del x_,xf1,xf2\n",
    "        gc.collect()\n",
    "        x=torch.cat(out,dim=0)\n",
    "        del out\n",
    "        gc.collect()\n",
    "        x=torch.sigmoid(x).squeeze(1)\n",
    "        x=x.reshape(num_tta+2,shape[0],*shape[3:])\n",
    "        xf = x[4:,:,:,:]\n",
    "        x =  x[:4,:,:,:]\n",
    "        x=[torch.rot90(x[i],k=-i,dims=(-2,-1)) for i in range(num_tta)]\n",
    "        xf1= torch.flip(xf[0], dims=[1])#\n",
    "        xf2= torch.flip(xf[1], dims=[2])#\n",
    "        xf=torch.cat([xf1,xf2])\n",
    "        del xf1,xf2;gc.collect();\n",
    "        x=torch.stack(x,dim=0)\n",
    "        x=torch.cat([x,xf.unsqueeze(1)])\n",
    "        return x.mean(0)\n",
    "    else :\n",
    "        x=model(x)\n",
    "        x=torch.sigmoid(x)\n",
    "        return x  \n",
    "class EnsembleModel:\n",
    "    def __init__(self, use_tta=True):\n",
    "        self.models = []\n",
    "        self.use_tta = use_tta\n",
    "\n",
    "    def __call__(self, x):\n",
    "        output = [TTA(x,model)\n",
    "                   for model in self.models]\n",
    "        output=torch.stack(output,dim=0).mean(0)\n",
    "        return output\n",
    "    \n",
    "    def add_model(self, model):\n",
    "        self.models.append(model)\n",
    "\n",
    "def build_ensemble_model(chkps):\n",
    "    model = EnsembleModel()\n",
    "    for model_path in chkps:\n",
    "        if '18' in model_path:\n",
    "            print('r18',model_path)\n",
    "            _model=SegModel(18)\n",
    "        else:\n",
    "            print('r34',model_path)\n",
    "            _model = SegModel(34)\n",
    "        _model.to(device)\n",
    "        state = torch.load(model_path)['model']\n",
    "        _model.load_state_dict(state,strict=True)\n",
    "        _model.eval()\n",
    "        model.add_model(_model)\n",
    "    \n",
    "    return model\n",
    "\n",
    "def crop_center(img,cropx,cropy):\n",
    "    y,x = img.shape\n",
    "    startx = x//2-(cropx//2)\n",
    "    starty = y//2-(cropy//2)\n",
    "    return img[starty:starty+cropy,startx:startx+cropx]"
   ]
  },
  {
   "cell_type": "code",
   "execution_count": 8,
   "id": "2674e63f",
   "metadata": {
    "execution": {
     "iopub.execute_input": "2023-07-13T06:01:43.835376Z",
     "iopub.status.busy": "2023-07-13T06:01:43.834786Z",
     "iopub.status.idle": "2023-07-13T06:01:43.844917Z",
     "shell.execute_reply": "2023-07-13T06:01:43.843916Z"
    },
    "papermill": {
     "duration": 0.017892,
     "end_time": "2023-07-13T06:01:43.847495",
     "exception": false,
     "start_time": "2023-07-13T06:01:43.829603",
     "status": "completed"
    },
    "tags": []
   },
   "outputs": [
    {
     "name": "stdout",
     "output_type": "stream",
     "text": [
      "['a', 'b']\n"
     ]
    }
   ],
   "source": [
    "if mode == 'test':\n",
    "    fragment_ids = sorted(os.listdir(comp_dataset_path + mode))\n",
    "else:\n",
    "    fragment_ids = [3]\n",
    "print(fragment_ids)    "
   ]
  },
  {
   "cell_type": "code",
   "execution_count": 9,
   "id": "1d8b74ed",
   "metadata": {
    "execution": {
     "iopub.execute_input": "2023-07-13T06:01:43.858243Z",
     "iopub.status.busy": "2023-07-13T06:01:43.857620Z",
     "iopub.status.idle": "2023-07-13T06:01:59.785778Z",
     "shell.execute_reply": "2023-07-13T06:01:59.784380Z"
    },
    "papermill": {
     "duration": 15.939051,
     "end_time": "2023-07-13T06:01:59.791111",
     "exception": false,
     "start_time": "2023-07-13T06:01:43.852060",
     "status": "completed"
    },
    "tags": []
   },
   "outputs": [
    {
     "name": "stdout",
     "output_type": "stream",
     "text": [
      "r18 /kaggle/input/train-r18-3d-mosaic/vesuvius-models/Resnet18_3d_fold1_best.pth\n",
      "r18 /kaggle/input/train-r18-3d-mosaic2-exp1/vesuvius-models/Resnet18_3d_fold2a_best.pth\n",
      "r34 /kaggle/input/train-r34-3d-mosaic/vesuvius-models/Resnet34_3d_fold2b_best.pth\n",
      "r34 /kaggle/input/train-r34-3d-mosaic/vesuvius-models/Resnet34_3d_fold1_best.pth\n",
      "r34 /kaggle/input/train-r34-3d-mosaic/vesuvius-models/Resnet34_3d_fold3_best.pth\n",
      "r34 /kaggle/input/train-r34-3d-mosaic/vesuvius-models/Resnet34_3d_fold2a_best.pth\n"
     ]
    }
   ],
   "source": [
    "model = build_ensemble_model(chkps)"
   ]
  },
  {
   "cell_type": "code",
   "execution_count": 10,
   "id": "3077aed1",
   "metadata": {
    "execution": {
     "iopub.execute_input": "2023-07-13T06:01:59.810777Z",
     "iopub.status.busy": "2023-07-13T06:01:59.810373Z",
     "iopub.status.idle": "2023-07-13T06:01:59.841538Z",
     "shell.execute_reply": "2023-07-13T06:01:59.840487Z"
    },
    "papermill": {
     "duration": 0.043219,
     "end_time": "2023-07-13T06:01:59.844172",
     "exception": false,
     "start_time": "2023-07-13T06:01:59.800953",
     "status": "completed"
    },
    "tags": []
   },
   "outputs": [],
   "source": [
    "def infer():\n",
    "    results = []\n",
    "    for fragment_id in fragment_ids:\n",
    "        test_loader, xyxys = make_test_dataset(fragment_id)\n",
    "        binary_mask = cv2.imread(comp_dataset_path + f\"{mode}/{fragment_id}/mask.png\", 0)\n",
    "        binary_mask = (binary_mask / 255).astype(int)\n",
    "        ori_h = binary_mask.shape[0]\n",
    "        ori_w = binary_mask.shape[1]\n",
    "        pad0 = (tile_size - binary_mask.shape[0] % tile_size)\n",
    "        pad1 = (tile_size - binary_mask.shape[1] % tile_size)\n",
    "        binary_mask = np.pad(binary_mask, [(0, pad0), (0, pad1)], constant_values=0)\n",
    "        mask_pred = np.zeros(binary_mask.shape)\n",
    "        mask_count = np.zeros(binary_mask.shape)\n",
    "        for step, (images) in tqdm(enumerate(test_loader), total=len(test_loader)):\n",
    "            images = images.to(device)  \n",
    "            bs = images.size(0)\n",
    "            with torch.no_grad():\n",
    "                y_preds = model(images).cpu().numpy()\n",
    "            start_idx = step*BATCH_SIZE\n",
    "            end_idx = start_idx + bs\n",
    "            for i, (x1, y1, x2, y2) in enumerate(xyxys[start_idx:end_idx]): \n",
    "                mask_pred[y1:y2, x1:x2] += np.pad(crop_center(y_preds[i],size,size),(expand//2,)) \n",
    "                mask_count[y1:y2, x1:x2] += np.pad(np.ones((size, size)),(expand//2,)) \n",
    "        del test_loader,images      \n",
    "        gc.collect()\n",
    "        torch.cuda.empty_cache()\n",
    "        plt.imshow(mask_count)\n",
    "        plt.show()\n",
    "        print(f'mask_count_min: {mask_count.min()}')\n",
    "        mask_pred /= (mask_count+1e-7)\n",
    "        \n",
    "        mask_pred=xp.array(mask_pred)\n",
    "        mask_pred=denoise_image(mask_pred, iter_num=250)\n",
    "        mask_pred=mask_pred.get()\n",
    "        \n",
    "        mask_pred = mask_pred[:ori_h, :ori_w]\n",
    "        binary_mask = binary_mask[:ori_h, :ori_w]\n",
    "        mask_pred = (mask_pred >= TH).astype(int)\n",
    "        mask_pred *= binary_mask \n",
    "        plt.imshow(mask_pred)\n",
    "        plt.show()    \n",
    "        inklabels_rle = rle(mask_pred) \n",
    "        results.append((fragment_id, inklabels_rle))    \n",
    "        del mask_pred, mask_count,y_preds,binary_mask,inklabels_rle\n",
    "        gc.collect()\n",
    "        torch.cuda.empty_cache()\n",
    "    return results"
   ]
  },
  {
   "cell_type": "code",
   "execution_count": 11,
   "id": "004862bf",
   "metadata": {
    "execution": {
     "iopub.execute_input": "2023-07-13T06:01:59.860233Z",
     "iopub.status.busy": "2023-07-13T06:01:59.859639Z",
     "iopub.status.idle": "2023-07-13T09:49:26.161386Z",
     "shell.execute_reply": "2023-07-13T09:49:26.159901Z"
    },
    "papermill": {
     "duration": 13646.312778,
     "end_time": "2023-07-13T09:49:26.164138",
     "exception": false,
     "start_time": "2023-07-13T06:01:59.851360",
     "status": "completed"
    },
    "tags": []
   },
   "outputs": [
    {
     "name": "stderr",
     "output_type": "stream",
     "text": [
      "100%|██████████| 32/32 [00:17<00:00,  1.83it/s]\n",
      "100%|██████████| 58/58 [1:25:41<00:00, 88.64s/it]\n"
     ]
    },
    {
     "data": {
      "image/png": "[encoded data removed]",
      "text/plain": [
       "<Figure size 640x480 with 1 Axes>"
      ]
     },
     "metadata": {},
     "output_type": "display_data"
    },
    {
     "name": "stdout",
     "output_type": "stream",
     "text": [
      "mask_count_min: 0.0\n"
     ]
    },
    {
     "name": "stderr",
     "output_type": "stream",
     "text": [
      "100%|██████████| 250/250 [00:32<00:00,  7.79it/s]\n"
     ]
    },
    {
     "data": {
      "image/png": "[encoded data removed]",
      "text/plain": [
       "<Figure size 640x480 with 1 Axes>"
      ]
     },
     "metadata": {},
     "output_type": "display_data"
    },
    {
     "name": "stderr",
     "output_type": "stream",
     "text": [
      "100%|██████████| 32/32 [00:46<00:00,  1.45s/it]\n",
      "100%|██████████| 94/94 [2:18:46<00:00, 88.58s/it]\n"
     ]
    },
    {
     "data": {
      "image/png": "[encoded data removed]",
      "text/plain": [
       "<Figure size 640x480 with 1 Axes>"
      ]
     },
     "metadata": {},
     "output_type": "display_data"
    },
    {
     "name": "stdout",
     "output_type": "stream",
     "text": [
      "mask_count_min: 0.0\n"
     ]
    },
    {
     "name": "stderr",
     "output_type": "stream",
     "text": [
      "100%|██████████| 250/250 [00:54<00:00,  4.58it/s]\n"
     ]
    },
    {
     "data": {
      "image/png": "[encoded data removed]",
      "text/plain": [
       "<Figure size 640x480 with 1 Axes>"
      ]
     },
     "metadata": {},
     "output_type": "display_data"
    }
   ],
   "source": [
    "sample_submission_flag = filecmp.cmp(\n",
    "    \"../input/vesuvius-challenge-ink-detection/test/a/surface_volume/00.tif\",\n",
    "    \"../input/vcid-file-check/00.tif\",\n",
    "    shallow=True\n",
    ")\n",
    "\n",
    "if sample_submission_flag and QUICK_SAVE:\n",
    "    df_sub = pd.read_csv(\"../input/vesuvius-challenge-ink-detection/sample_submission.csv\")\n",
    "    df_sub.to_csv(\"submission.csv\", index=False)\n",
    "    print('Quiq save')\n",
    "    print(df_sub)\n",
    "else:\n",
    "    results=infer()\n",
    "    sub = pd.DataFrame(results, columns=['Id', 'Predicted'])\n",
    "    sample_sub = pd.read_csv(comp_dataset_path + 'sample_submission.csv')\n",
    "    sample_sub = pd.merge(sample_sub[['Id']], sub, on='Id', how='left')\n",
    "    sample_sub.to_csv(\"submission.csv\", index=False)\n",
    "    sample_sub\n",
    "    "
   ]
  },
  {
   "cell_type": "code",
   "execution_count": null,
   "id": "34e1fadf",
   "metadata": {
    "papermill": {
     "duration": 0.063168,
     "end_time": "2023-07-13T09:49:26.291981",
     "exception": false,
     "start_time": "2023-07-13T09:49:26.228813",
     "status": "completed"
    },
    "tags": []
   },
   "outputs": [],
   "source": []
  },
  {
   "cell_type": "code",
   "execution_count": null,
   "id": "fb78c0a7",
   "metadata": {
    "papermill": {
     "duration": 0.062325,
     "end_time": "2023-07-13T09:49:26.417238",
     "exception": false,
     "start_time": "2023-07-13T09:49:26.354913",
     "status": "completed"
    },
    "tags": []
   },
   "outputs": [],
   "source": []
  }
 ],
 "metadata": {
  "kernelspec": {
   "display_name": "Python 3",
   "language": "python",
   "name": "python3"
  },
  "language_info": {
   "codemirror_mode": {
    "name": "ipython",
    "version": 3
   },
   "file_extension": ".py",
   "mimetype": "text/x-python",
   "name": "python",
   "nbconvert_exporter": "python",
   "pygments_lexer": "ipython3",
   "version": "3.7.12"
  },
  "papermill": {
   "default_parameters": {},
   "duration": 13686.706178,
   "end_time": "2023-07-13T09:49:30.188229",
   "environment_variables": {},
   "exception": null,
   "input_path": "__notebook__.ipynb",
   "output_path": "__notebook__.ipynb",
   "parameters": {},
   "start_time": "2023-07-13T06:01:23.482051",
   "version": "2.4.0"
  }
 },
 "nbformat": 4,
 "nbformat_minor": 5
}
